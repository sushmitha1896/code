{
 "cells": [
  {
   "cell_type": "code",
   "execution_count": 5,
   "id": "042d9c3a",
   "metadata": {},
   "outputs": [
    {
     "name": "stdout",
     "output_type": "stream",
     "text": [
      "10 is b value while 20 is a value.\n",
      "30 is d value while 40 is c value.\n"
     ]
    }
   ],
   "source": [
    "a = 10\n",
    "b = 20\n",
    "c = 30\n",
    "d = 40\n",
    "print(\"{0} is b value while {1} is a value.\".format(a,b))\n",
    "print(\"{0} is d value while {1} is c value.\".format(c,d))"
   ]
  },
  {
   "cell_type": "code",
   "execution_count": null,
   "id": "d63c8c62",
   "metadata": {},
   "outputs": [],
   "source": [
    "r=float(input(\"enter r value \"))\n",
    "pi=float(3.14)\n",
    "areaofcircle=float(pi*r*r)\n",
    "print(\"areaofcir=\",areaofcircle)"
   ]
  },
  {
   "cell_type": "code",
   "execution_count": 33,
   "id": "d284099e",
   "metadata": {},
   "outputs": [
    {
     "name": "stdout",
     "output_type": "stream",
     "text": [
      "5002.0\n"
     ]
    }
   ],
   "source": [
    "radiusofcircle=int(31415/3.14)\n",
    "print(radiusofcircle/2)\n"
   ]
  },
  {
   "cell_type": "code",
   "execution_count": null,
   "id": "a0557c04",
   "metadata": {},
   "outputs": [],
   "source": [
    "#perimeter of polygon\n",
    "sides=int(input(\"number of sides= \"))\n",
    "length= float(input(\"length of one side= \"))\n",
    "print(\"perimeter of polygon=\",sides*length)"
   ]
  },
  {
   "cell_type": "code",
   "execution_count": 36,
   "id": "2846883c",
   "metadata": {},
   "outputs": [
    {
     "name": "stdout",
     "output_type": "stream",
     "text": [
      "AND = 0\n",
      "OR = 6\n",
      "0b1  1=> -2 -0b10\n"
     ]
    }
   ],
   "source": [
    "value1=4\n",
    "value2=2\n",
    "#AND\n",
    "print(\"AND =\",value1 & value2)\n",
    "#OR\n",
    "print(\"OR =\",value1|value2)\n",
    "#NOT\n",
    "notoffour = ~1  # 01  to  10  become 2 because of reverse compliment \n",
    "#print(\"NOT =\",bin(notoffour))\n",
    "print(bin(1),\" 1=>\",notoffour,bin(notoffour))"
   ]
  },
  {
   "cell_type": "code",
   "execution_count": 37,
   "id": "a88da8cd",
   "metadata": {},
   "outputs": [
    {
     "name": "stdout",
     "output_type": "stream",
     "text": [
      "0 =>0000\n",
      "1 =>0001\n",
      "2 =>0010\n",
      "3 =>0011\n",
      "4 =>0100\n",
      "5 =>0101\n",
      "6 =>0110\n",
      "7 =>0111\n",
      "8 =>1000\n",
      "9 =>1001\n",
      "10 =>1010\n",
      "11 =>1011\n",
      "12 =>1100\n",
      "13 =>1101\n",
      "14 =>1110\n",
      "15 =>1111\n",
      "16 =>10000\n",
      "17 =>10001\n",
      "18 =>10010\n",
      "19 =>10011\n",
      "20 =>10100\n"
     ]
    }
   ],
   "source": [
    "for num in range(0,21):\n",
    "    print(num,\"=>{:04b}\".format(num))\n",
    "    "
   ]
  },
  {
   "cell_type": "code",
   "execution_count": 58,
   "id": "4d8d6e76",
   "metadata": {},
   "outputs": [
    {
     "name": "stdout",
     "output_type": "stream",
     "text": [
      "python\n",
      "cobol\n",
      "pascal\n",
      "cplus\n",
      "['python', 'cobol', 'PASCAL', 'cplus']\n",
      "['python', 'cobol', 'PASCAL', 'cplus', 'JAVA']\n",
      "['python', 'PASCAL', 'cplus', 'JAVA']\n",
      "['JAVA', 'PASCAL', 'cplus', 'python']\n",
      "COPY OF SIMPLELIST1 ['python', 'cobol', 'pascal', 'cplus']\n",
      "Concatenation of LISTS\n",
      "\n",
      "['python', 'cobol', 'pascal', 'cplus', 'version1', 'version2', 'version3', 'version4']\n",
      "********************\n",
      "Comprehension\n",
      "********************\n",
      "JAVA\n",
      "A is in  JAVA\n",
      "PASCAL\n",
      "A is in  PASCAL\n",
      "cplus\n",
      "python\n",
      "********************\n",
      "['JAVA', 'PASCAL']\n"
     ]
    }
   ],
   "source": [
    "simplelist1=[\"python\",\"cobol\",\"pascal\",\"cplus\"]\n",
    "simplelist2=simplelist1.copy()\n",
    "simplelist3=[\"version1\",\"version2\",\"version3\",\"version4\"]\n",
    "simplelist4=simplelist1+simplelist3\n",
    "\n",
    "#print(simplelist1)\n",
    "#print(simplelist1[0])\n",
    "#print(simplelist1[3])\n",
    "for litems in simplelist1:  #iterative \n",
    "    print(litems)\n",
    "    \n",
    "simplelist1[2]=\"PASCAL\"\n",
    "print(simplelist1)\n",
    "simplelist1.append(\"JAVA\")\n",
    "print(simplelist1)\n",
    "simplelist1.remove(\"cobol\")\n",
    "print(simplelist1)\n",
    "\n",
    "simplelist1.sort()\n",
    "print(simplelist1)\n",
    "print(\"COPY OF SIMPLELIST1\",simplelist2)\n",
    "print(\"Concatenation of LISTS\\n\")\n",
    "print(simplelist4)\n",
    "\n",
    "newsimplelist=[]  # Initialization of a list  or create an empty list\n",
    "#comprehension\n",
    "print(\"*\"*20)\n",
    "print(\"Comprehension\")\n",
    "print(\"*\"*20)\n",
    "for litems in simplelist1:  #iterative \n",
    "    print(litems)\n",
    "    if \"A\" in litems:       #membership  \n",
    "        print(\"A is in \",litems)\n",
    "        newsimplelist.append(litems)\n",
    "print(\"*\"*20)\n",
    "print(newsimplelist) "
   ]
  },
  {
   "cell_type": "code",
   "execution_count": 41,
   "id": "13fa6c9e",
   "metadata": {},
   "outputs": [
    {
     "name": "stdout",
     "output_type": "stream",
     "text": [
      "No doctor is not there\n",
      "b is bigger\n"
     ]
    }
   ],
   "source": [
    "#membership check in string\n",
    "string1=\"An apple a day keeps doctor away\"\n",
    "if \"DOCTOR\" in string1:\n",
    "    print(\"Yes doctor is there\")\n",
    "else:\n",
    "    print(\"No doctor is not there\")\n",
    "    \n",
    "#simple if condition\n",
    "a=10\n",
    "b=20\n",
    "if (a>b):\n",
    "    print(\"a is bigger\")\n",
    "else:\n",
    "    print(\"b is bigger\")"
   ]
  },
  {
   "cell_type": "code",
   "execution_count": 42,
   "id": "af139e2b",
   "metadata": {},
   "outputs": [
    {
     "name": "stdout",
     "output_type": "stream",
     "text": [
      "false\n"
     ]
    }
   ],
   "source": [
    "string=\"today is wednesday\"\n",
    "if \"tuesday\" in string:\n",
    "    print(\"true\")\n",
    "else:\n",
    "    print(\"false\")"
   ]
  },
  {
   "cell_type": "code",
   "execution_count": 61,
   "id": "de7e23e1",
   "metadata": {},
   "outputs": [
    {
     "name": "stdout",
     "output_type": "stream",
     "text": [
      "apple\n",
      "banana\n",
      "jackfruit\n",
      "grapes\n",
      "['APPLE', 'banana', 'jackfruit', 'grapes']\n",
      "['APPLE', 'banana', 'jackfruit', 'grapes', 'mango']\n",
      "['APPLE', 'banana', 'grapes', 'mango']\n",
      "['APPLE', 'banana', 'grapes', 'mango']\n",
      "********************\n",
      "APPLE\n",
      "P is in APPLE\n",
      "banana\n",
      "grapes\n",
      "mango\n"
     ]
    }
   ],
   "source": [
    "list=[\"apple\",\"banana\",\"jackfruit\",\"grapes\"]\n",
    "for litem in list:\n",
    "    print(litem)\n",
    "list[0]=\"APPLE\"\n",
    "print(list)\n",
    "list.append(\"mango\")\n",
    "print(list)\n",
    "list.remove(\"jackfruit\")\n",
    "print(list)\n",
    "\n",
    "list.sort()\n",
    "print(list)\n",
    "\n",
    "print(\"*\"*20)\n",
    "for litem in list:\n",
    "    print(litem)\n",
    "    if \"P\" in litem:\n",
    "        print(\"P is in\",litem)\n",
    "    "
   ]
  },
  {
   "cell_type": "code",
   "execution_count": 62,
   "id": "449da59c",
   "metadata": {},
   "outputs": [
    {
     "name": "stdout",
     "output_type": "stream",
     "text": [
      "0 =>0000\n",
      "1 =>0001\n",
      "2 =>0010\n",
      "3 =>0011\n",
      "4 =>0100\n",
      "5 =>0101\n",
      "6 =>0110\n",
      "7 =>0111\n",
      "8 =>1000\n",
      "9 =>1001\n",
      "10 =>1010\n",
      "11 =>1011\n",
      "12 =>1100\n",
      "13 =>1101\n",
      "14 =>1110\n",
      "15 =>1111\n",
      "16 =>10000\n",
      "17 =>10001\n",
      "18 =>10010\n",
      "19 =>10011\n",
      "20 =>10100\n"
     ]
    }
   ],
   "source": [
    "for num in range(0,21):\n",
    "    print(num,\"=>{:04b}\".format(num))  #starts from 0000, 0001, 0010...."
   ]
  }
 ],
 "metadata": {
  "kernelspec": {
   "display_name": "Python 3 (ipykernel)",
   "language": "python",
   "name": "python3"
  },
  "language_info": {
   "codemirror_mode": {
    "name": "ipython",
    "version": 3
   },
   "file_extension": ".py",
   "mimetype": "text/x-python",
   "name": "python",
   "nbconvert_exporter": "python",
   "pygments_lexer": "ipython3",
   "version": "3.11.5"
  }
 },
 "nbformat": 4,
 "nbformat_minor": 5
}
