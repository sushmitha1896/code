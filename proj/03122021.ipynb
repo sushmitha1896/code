{
 "cells": [
  {
   "cell_type": "code",
   "execution_count": 1,
   "id": "caf10993",
   "metadata": {},
   "outputs": [
    {
     "name": "stdout",
     "output_type": "stream",
     "text": [
      "hello world\n"
     ]
    }
   ],
   "source": [
    "print(\"hello world\")"
   ]
  },
  {
   "cell_type": "code",
   "execution_count": 2,
   "id": "4c78a4fe",
   "metadata": {},
   "outputs": [
    {
     "name": "stdout",
     "output_type": "stream",
     "text": [
      "what is your name? sushmitha\n",
      "sushmitha\n"
     ]
    }
   ],
   "source": [
    "name=input(\"what is your name? \")\n",
    "print(name)\n"
   ]
  },
  {
   "cell_type": "code",
   "execution_count": 4,
   "id": "e3f18650",
   "metadata": {},
   "outputs": [
    {
     "name": "stdout",
     "output_type": "stream",
     "text": [
      "type any number 6\n",
      "<class 'int'>\n"
     ]
    }
   ],
   "source": [
    "value=int(input(\"type any number \"))\n",
    "print(type(value))\n"
   ]
  },
  {
   "cell_type": "code",
   "execution_count": 6,
   "id": "3246a50a",
   "metadata": {},
   "outputs": [
    {
     "name": "stdout",
     "output_type": "stream",
     "text": [
      "<class 'float'>\n"
     ]
    }
   ],
   "source": [
    "floatval=4.5\n",
    "print(type(floatval))\n"
   ]
  },
  {
   "cell_type": "code",
   "execution_count": 7,
   "id": "ae7c9835",
   "metadata": {},
   "outputs": [
    {
     "name": "stdout",
     "output_type": "stream",
     "text": [
      "GANITECH,tutorial,on,python,print,function\n"
     ]
    }
   ],
   "source": [
    "print('GANITECH','tutorial','on','python','print','function',sep=',')"
   ]
  },
  {
   "cell_type": "code",
   "execution_count": 8,
   "id": "21a700bd",
   "metadata": {},
   "outputs": [
    {
     "name": "stdout",
     "output_type": "stream",
     "text": [
      "GANITECH\n",
      "\n",
      "tutorial\n",
      "\n",
      "on\n",
      "\n",
      "python\n",
      "\n",
      "print\n",
      "\n",
      "function\n"
     ]
    }
   ],
   "source": [
    "print('GANITECH','tutorial','on','python','print','function',sep='\\n\\n')\n"
   ]
  },
  {
   "cell_type": "code",
   "execution_count": 9,
   "id": "4ace77c4",
   "metadata": {},
   "outputs": [
    {
     "name": "stdout",
     "output_type": "stream",
     "text": [
      "GANITECH,+tutorial,+on,+python,+print,+function\n"
     ]
    }
   ],
   "source": [
    "print('GANITECH','tutorial','on','python','print','function',sep=',+')\n"
   ]
  },
  {
   "cell_type": "code",
   "execution_count": 10,
   "id": "fc0a6a38",
   "metadata": {},
   "outputs": [
    {
     "name": "stdout",
     "output_type": "stream",
     "text": [
      "GANITECH tutorial on python print function\n"
     ]
    }
   ],
   "source": [
    "str1 = 'GANITECH tutorial on'\n",
    "str2 = 'python print function'\n",
    "print(str1,end=' ')\n",
    "print(str2)"
   ]
  },
  {
   "cell_type": "code",
   "execution_count": 11,
   "id": "59b27713",
   "metadata": {},
   "outputs": [
    {
     "name": "stdout",
     "output_type": "stream",
     "text": [
      "2 is an integer while GANITECH is a string.\n"
     ]
    }
   ],
   "source": [
    "a = 2\n",
    "b = \"GANITECH\"\n",
    "print(\"{0} is an integer while {1} is a string.\".format(a,b))\n"
   ]
  },
  {
   "cell_type": "code",
   "execution_count": 12,
   "id": "c81d3503",
   "metadata": {},
   "outputs": [
    {
     "name": "stdout",
     "output_type": "stream",
     "text": [
      "2 is an integer while GANITECH is a string.\n"
     ]
    }
   ],
   "source": [
    "a = 2\n",
    "b = \"GANITECH\"\n",
    "print(\"%d is an integer while %s is a string.\"%(a,b))"
   ]
  },
  {
   "cell_type": "code",
   "execution_count": 13,
   "id": "d48e88d8",
   "metadata": {},
   "outputs": [
    {
     "name": "stdout",
     "output_type": "stream",
     "text": [
      "2 is an integer while GANITECH is a string.\n"
     ]
    }
   ],
   "source": [
    "a = 2\n",
    "b = \"GANITECH\"\n",
    "print(\"%d is an integer while %s is a string.\"%(a,b))"
   ]
  },
  {
   "cell_type": "code",
   "execution_count": 14,
   "id": "6e3c92eb",
   "metadata": {},
   "outputs": [
    {
     "name": "stdout",
     "output_type": "stream",
     "text": [
      "Python is fun.\n",
      "a = 5\n",
      "a = 5 = b\n",
      "a =000005\n",
      "\n",
      "\n",
      "a =05"
     ]
    }
   ],
   "source": [
    "print(\"Python is fun.\")\n",
    "\n",
    "a = 5\n",
    "# Two objects are passed\n",
    "print(\"a =\", a)\n",
    "\n",
    "b = a\n",
    "# Three objects are passed\n",
    "print('a =', a, '= b')\n",
    "\n",
    "a = 5\n",
    "print(\"a =\", a, sep='00000', end='\\n\\n\\n')\n",
    "print(\"a =\", a, sep='0', end='')"
   ]
  },
  {
   "cell_type": "code",
   "execution_count": 18,
   "id": "67b9ffca",
   "metadata": {},
   "outputs": [
    {
     "name": "stdout",
     "output_type": "stream",
     "text": [
      "My name is sushmitha and im 25 years old.\n"
     ]
    }
   ],
   "source": [
    "a=\"sushmitha\"\n",
    "b=\"25\"\n",
    "print(\"My name is {0} and im {1} years old.\".format(a,b))"
   ]
  },
  {
   "cell_type": "code",
   "execution_count": 16,
   "id": "0849bed8",
   "metadata": {},
   "outputs": [
    {
     "name": "stdout",
     "output_type": "stream",
     "text": [
      "this is 1,2,3.\n"
     ]
    }
   ],
   "source": [
    "print(\"this is {},{},{}.\".format(\"1\",\"2\",\"3\"))"
   ]
  },
  {
   "cell_type": "code",
   "execution_count": 17,
   "id": "4251d8fc",
   "metadata": {},
   "outputs": [
    {
     "name": "stdout",
     "output_type": "stream",
     "text": [
      "Hey! sushmitha .\n"
     ]
    }
   ],
   "source": [
    "name=\"sushmitha\"\n",
    "print(\"Hey! %s .\"%(name))"
   ]
  },
  {
   "cell_type": "code",
   "execution_count": null,
   "id": "dd2464af",
   "metadata": {},
   "outputs": [],
   "source": []
  }
 ],
 "metadata": {
  "kernelspec": {
   "display_name": "Python 3 (ipykernel)",
   "language": "python",
   "name": "python3"
  },
  "language_info": {
   "codemirror_mode": {
    "name": "ipython",
    "version": 3
   },
   "file_extension": ".py",
   "mimetype": "text/x-python",
   "name": "python",
   "nbconvert_exporter": "python",
   "pygments_lexer": "ipython3",
   "version": "3.11.5"
  }
 },
 "nbformat": 4,
 "nbformat_minor": 5
}
