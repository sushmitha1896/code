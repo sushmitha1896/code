{
 "cells": [
  {
   "cell_type": "code",
   "execution_count": 142,
   "id": "b2636c7d",
   "metadata": {},
   "outputs": [
    {
     "name": "stdout",
     "output_type": "stream",
     "text": [
      "odd_string= T EO O OB\n",
      "length_oddstr= 9\n",
      "even_string= OB RNTT E\n",
      "len_even_string= 9\n",
      "reverse_string= EB OT TON RO EB OT\n",
      "len_reverse_string= 18\n",
      "5\n"
     ]
    }
   ],
   "source": [
    "string2=\"TO BE OR NOT TO BE\"\n",
    "\n",
    "oddstring=string2[::2]\n",
    "print(\"odd_string=\",oddstring)\n",
    "print(\"length_oddstr=\",len(oddstring))\n",
    "evenstring=string2[1::2]\n",
    "print(\"even_string=\",evenstring)\n",
    "print(\"len_even_string=\",len(evenstring))\n",
    "reversestring=(string2[::-1])\n",
    "print(\"reverse_string=\",reversestring)\n",
    "print(\"len_reverse_string=\",len(reversestring))\n",
    "\n",
    "print(string2.count(\" \"))\n"
   ]
  },
  {
   "cell_type": "code",
   "execution_count": 83,
   "id": "04ac1f17",
   "metadata": {},
   "outputs": [
    {
     "name": "stdout",
     "output_type": "stream",
     "text": [
      "900\n",
      "900\n"
     ]
    }
   ],
   "source": [
    "a=20\n",
    "b=10\n",
    "#(a+b)^2=a^2 + b^2+2ab\n",
    "result=a**2+b**2+2*a*b\n",
    "result1=(a+b)**2\n",
    "print(result)\n",
    "print(result1)"
   ]
  },
  {
   "cell_type": "code",
   "execution_count": 67,
   "id": "ef14366e",
   "metadata": {},
   "outputs": [
    {
     "name": "stdout",
     "output_type": "stream",
     "text": [
      "10000000000\n"
     ]
    }
   ],
   "source": [
    "a=10\n",
    "print(a**10)"
   ]
  },
  {
   "cell_type": "code",
   "execution_count": 113,
   "id": "a482c8d4",
   "metadata": {},
   "outputs": [
    {
     "name": "stdout",
     "output_type": "stream",
     "text": [
      "enter a value 60\n",
      "enter b value 25\n",
      "42875\n",
      "42875\n"
     ]
    }
   ],
   "source": [
    "#a-b^3\n",
    "a=int(input(\"enter a value \"))\n",
    "b=int(input(\"enter b value \"))\n",
    "result=a**3-3*a**2*b+3*a*b**2-b**3\n",
    "result1=(a-b)**3\n",
    "print(result)\n",
    "print(result1)"
   ]
  },
  {
   "cell_type": "code",
   "execution_count": 123,
   "id": "449415f6",
   "metadata": {},
   "outputs": [
    {
     "name": "stdout",
     "output_type": "stream",
     "text": [
      "e\n",
      "r\n",
      "ello\n",
      "ellowo\n",
      "lloworld\n",
      "hello\n",
      "hellowor\n",
      "ld\n",
      "dlrowolleh\n"
     ]
    }
   ],
   "source": [
    "string1=\"helloworld\"\n",
    "\n",
    "print(string1[1])\n",
    "print(string1[-3])\n",
    "print(string1[1:5])\n",
    "print(string1[1:-3])\n",
    "print(string1[2:])\n",
    "\n",
    "print(string1[:5])\n",
    "print(string1[:-2])\n",
    "\n",
    "print(string1[-2:])\n",
    "\n",
    "print(string1[::-1])"
   ]
  },
  {
   "cell_type": "code",
   "execution_count": 151,
   "id": "acb5f88e",
   "metadata": {},
   "outputs": [
    {
     "name": "stdout",
     "output_type": "stream",
     "text": [
      "lik\n",
      "ramuk htihkil\n"
     ]
    }
   ],
   "source": [
    "string=\"likhith kumar\"\n",
    "print(string[0:9:4])\n",
    "print(string[::-1])"
   ]
  },
  {
   "cell_type": "code",
   "execution_count": 147,
   "id": "e3a2018a",
   "metadata": {},
   "outputs": [
    {
     "name": "stdout",
     "output_type": "stream",
     "text": [
      "ushmi\n",
      "shmitha\n",
      "ushm\n",
      "s\n"
     ]
    }
   ],
   "source": [
    "string1=\"sushmitha\"\n",
    "print(string1[1:-3])\n",
    "print(string1[2:])\n",
    "print(string1[1:5])\n",
    "print(string1[2::7])"
   ]
  }
 ],
 "metadata": {
  "kernelspec": {
   "display_name": "Python 3 (ipykernel)",
   "language": "python",
   "name": "python3"
  },
  "language_info": {
   "codemirror_mode": {
    "name": "ipython",
    "version": 3
   },
   "file_extension": ".py",
   "mimetype": "text/x-python",
   "name": "python",
   "nbconvert_exporter": "python",
   "pygments_lexer": "ipython3",
   "version": "3.11.5"
  }
 },
 "nbformat": 4,
 "nbformat_minor": 5
}
