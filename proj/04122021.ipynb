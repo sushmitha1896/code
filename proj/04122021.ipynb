{
 "cells": [
  {
   "cell_type": "code",
   "execution_count": 14,
   "id": "90bf8dfe",
   "metadata": {},
   "outputs": [
    {
     "name": "stdout",
     "output_type": "stream",
     "text": [
      "\n",
      "123\n",
      " two 3.0\n",
      "\n"
     ]
    }
   ],
   "source": [
    "var1,var2,var3=\"123\\n\",\"two\",\"3.0\\n\"\n",
    "print(var1,var2,var3)"
   ]
  },
  {
   "cell_type": "code",
   "execution_count": null,
   "id": "10b472e9",
   "metadata": {},
   "outputs": [],
   "source": [
    "x1=int(input(\"x1 value-\"))\n",
    "x2=int(input(\"x2 value-\"))\n",
    "y1=int(input(\"y1 value-\"))\n",
    "y2=int(input(\"y2 value-\"))\n",
    "\n",
    "res=x2-x1\n",
    "res2=y2-y1\n",
    "print(\"result1=\", res, \"result2=\", res2)\n",
    "\n"
   ]
  },
  {
   "cell_type": "raw",
   "id": "f34790e5",
   "metadata": {},
   "source": [
    "print(10/10,10//5,10%10)"
   ]
  },
  {
   "cell_type": "code",
   "execution_count": 29,
   "id": "08c3e471",
   "metadata": {},
   "outputs": [
    {
     "name": "stdout",
     "output_type": "stream",
     "text": [
      "C N\n",
      "A N\n",
      "CENA\n",
      "IANNNEHC\n",
      "CH\n",
      "HEN\n",
      "INH\n",
      "HENNNAI\n"
     ]
    }
   ],
   "source": [
    "stri=\"CHENNNAI\"\n",
    "print(stri[0],str[4])\n",
    "print(stri[-2],str[-3])\n",
    "print(stri[::2])\n",
    "print(stri[::-1]) #negative strand\n",
    "print(stri[:2])\n",
    "print(stri[1:4])\n",
    "print(stri[::-3])\n",
    "print(stri[1::1])"
   ]
  },
  {
   "cell_type": "code",
   "execution_count": 114,
   "id": "5da775b5",
   "metadata": {},
   "outputs": [
    {
     "name": "stdout",
     "output_type": "stream",
     "text": [
      "9\n",
      "15\n",
      "6\n",
      "9\n",
      "AT COUNT= 8\n",
      "GC COUNT= 5\n",
      "5 %\n",
      "A\n",
      "TATATATATACGCCTTTCACGTTACCGGTTACGCGTTTA\n",
      "23 %\n",
      "AT count= 21 %\n",
      "T%= 38%\n"
     ]
    }
   ],
   "source": [
    "string=\"ATTTGCGCATTGGCCATTGCACTTTCCGCATATATATAT\"\n",
    "print(string.count(\"A\"));print(string.count(\"T\"));print(string.count(\"G\"));print(string.count(\"C\"))\n",
    "print(\"AT COUNT=\",string.count(\"AT\"));print(\"GC COUNT=\",string.count(\"GC\"))\n",
    "print(round(2/len(string)*100),\"%\")\n",
    "print(string[0])\n",
    "print(string[::-1])\n",
    "print(round(string.count(\"A\")/len(string)*100),\"%\")\n",
    "print(\"AT count=\",round(string.count(\"AT\")/len(string)*100),\"%\")\n",
    "GCcount=round(string.count(\"T\")/len(string)*100)\n",
    "print(\"T%=\",GCcount,end=\"%\\n\")\n"
   ]
  },
  {
   "cell_type": "code",
   "execution_count": 63,
   "id": "56ac2ff3",
   "metadata": {},
   "outputs": [
    {
     "name": "stdout",
     "output_type": "stream",
     "text": [
      "118\n"
     ]
    }
   ],
   "source": [
    "HBB=\"atgtctttttcaagaagaccgaagattacaaatcagatattgttgatcaaatatctttgaatattagaaataataatctaaaattagaaaaaaaatacataagacttgtgatagatgctttttttgaagagcttaaaggtaatctttgtttaaataatgttattgagtttagatcttttggtacatttgaagttagaaaaagaaaggggcgtttaaatgcgcgcaatcctcaaacaggggaatatgttaaggttttagatcatcatgttgcgtattttcgtccaggcaaggatttgaaagagagagtgtggggtattaaaggttaa\"\n",
    "print(HBB.count(\"a\"))"
   ]
  },
  {
   "cell_type": "code",
   "execution_count": 106,
   "id": "cfa585c4",
   "metadata": {},
   "outputs": [
    {
     "name": "stdout",
     "output_type": "stream",
     "text": [
      "112\n",
      "109\n",
      "7\n",
      "32\n",
      "2 %\n"
     ]
    }
   ],
   "source": [
    "hab='''ATGTCTTTTTCAAGAAGACCGAAGATTACTAAATCAGATATTGTTGATCAAATATCTTTGAATATT\n",
    "TAATCTAAAATTAGAAAAAAAATACATAAGACTTGTGATAGATGCTTTTTTTGAAGAGCTTAAAGG \n",
    "TAATCTTTGTTTAAATAATGTTATTGAGTTTAGATCTTTTGGTACATTTGAAGTTAGAAAAAGAAAGGGG \n",
    "CGTTTAAATGCGCGCAATCCTCAAACAGGGGAATATGTTAAGGTTTTAGATCATCATGTTGCGTATTTTC \n",
    "GTCCAGGCAAGGATTTGAAAGAGAGAGTGTGGGGTATTAAAGGTTAA'''\n",
    "\n",
    "print(hab.count(\"A\"));print(hab.count(\"T\"))\n",
    "print(hab.count(\"GC\"));print(hab.count(\"AT\"))\n",
    "print(round(hab.count(\"GC\")/len(hab)*100),\"%\")"
   ]
  },
  {
   "cell_type": "code",
   "execution_count": 112,
   "id": "3054c93a",
   "metadata": {},
   "outputs": [
    {
     "name": "stdout",
     "output_type": "stream",
     "text": [
      "365\n",
      "3 %\n",
      "3449\n"
     ]
    }
   ],
   "source": [
    "Hbb=''' AATTAAAAAATAAAAAAAAGATTAAGGTTTGTTTTTGGACAGGCAACGGTTCAAGTGAATTATTTAAAGA\n",
    "GCTTAAAATTAAGAGAAAAGATCTGTTTGTCCCAAAATTGGAAAATTTTCCAATAAGATATTATTTATCT\n",
    "TGTACTTATCTTTTTATGTTTTTAGCTCGTATTATGATTGCTTTATTTGTTTATTACATTTCATTAAGCA\n",
    "ATATATTTATTTTTTTATTTATTTGTTTTATTGATATTAAAGTTTTGTTGGGGAATTTTTCAGTTATTAG\n",
    "CAATATAGTGTTATTTTATGAGTTTAGGAAAGATTCAATCTGTGAAAGAAAAATTTTTAAAAGTGAAATT\n",
    "TATTTTTATGAATTTTTTGAAAAAATTTTTATTGCCAGAGAATTTGAATTTAACAATAAAAATTATTTAT\n",
    "GCTTTTTATACAAAGAAAATCATCAGACAAAAAAGGTATATATTTTGAATAAAAAAATTTCTTATTCCAT\n",
    "GCAAAAGGTTTTTGAATATATTAATCAAAACTATTGTACTAAATTAACTTAAATCTTTGATTGACTATAT\n",
    "TTGAATTAGTTGATATATTAAAGCTATTGTTTAATAATATTATTAAGGAGTATAACTTGAGAAAAAATGC\n",
    "ATCTGCATTGAAGCGCTCTCGTCAAAATTTAAAAAGAAAGATTAGAAATGTAAGTGTAAAAAGTGAATTA\n",
    "AAAACAATAGAAAAACGCTGTATCAACATGATAAAAGCGGGTAAGAAAGACGAAGCTATTGAATTTTTTA\n",
    "AATTTGTTGCAAAAAAACTAGACACTGCTGCTAGAAAGCGAATAATTCATAAAAATAAGGCTGCTAGAAA\n",
    "AAAATCTCGTTTAAATGTTTTGCTGTTAAAGTAAGGAAATTAGTTTATGTCTTTTTCAAGAAGACCAAAG\n",
    "GTTACTAAGTCAGACATTGTTGATCAAATAGCTTTGAATATTAAAAATAATAATCTGAAATTAGAAAAAA\n",
    "AATACATAAGACTTGTAATAGATGCTTTTTTTGAAGAGCTTAAAAGTAATCTTTGTTCGAATAATGTTAT\n",
    "TGAGTTTAGATCTTTTGGTACATTTGAAGTTAGAAAAAGAAAGGGACGCTTAAATGCTCGCAATCCTCAA\n",
    "ACAGGGGAGTATGTTAAGGTCCTAGATCATCACGTTGCGTATTTTCGTCCAGGCAAAGATTTGAAAGAGA\n",
    "GAGTGTGGGGTATCAAAGGTTAAATGCCAGTTAATATCGTAGATTCTTATAAATGGGATTGTAAGCTAGA\n",
    "CTCCAGTTTAACTTTTAGAGGAAAATTAAAATTTGAAGGAACTTTGTATCTTGATTCTTCTTTTGAAGGT\n",
    "GAAATATCTTCAAAAGGGGGTGTGCTTTTTATTGGCAAGAATAGTAAGGTTATTACCAATGTGGTAATTT\n",
    "GTGATACATTAATAGTAGAAGGAATTTTGAAGGGCAATGTAAATGCTGCTAGTAAGGTTTATTTAAACAG\n",
    "CGGTTGTAAAATATATGGGGATGTAAAAACAAAAAAAATATTTATTAATGATAATATAATTTTTGATGGT\n",
    "AAGTGTGAAATGATAAAGTCTAATGAAATTGTAGATTTATTTTCTTTCACCGTTTCACAAATAAAAGATA\n",
    "CTTTGCAATAGGGTCAGTGTTTTTTATTAATTAATAATAAGTAGATTTTTATAAAATCCTTTCTTAAAAA\n",
    "TTTAATTCGTAGAGGAAAATATGGATAAAAAAAATGGTGGATTTGATTTAGAAAGTGAAATAAGGCGGTT\n",
    "GGATGTTTCTAAAGAGTTTAAGATTGAAGATAATTTGAAAAAAAAAGTGGTTAAAGTTGTTGCTAAAAAG\n",
    "GATTCTGCATCTAGCGTGACAAAATCTGCAGATTTAAGTGGCGTAAAGGATTCAAACGGGGTAATATTTC\n",
    "CTGATTTTGATTATGATATTCCTTCTTCAGGTTTAGAAAATAATATTAAAACTTTAGAGCAAAGTAATAT\n",
    "CATCAAATTTTTTAATGGTAAAGATTATGTAGAGATTGAAAAACTTTATGATAAGCCAATTACAGAGGTT\n",
    "AGAAAAATTGTTGAAGGTCTTGGGACCAATCATACTATTGCTGTAACAATGAAAAAAACCGAATTAATAT\n",
    "TTTTATTGGTGAAAATATTAAGTGAGAATAATATTGATGTTTTATTTACAGGTGTGCTTGATGTGCTTAG\n",
    "TGATGGTTATGGGTTTTTGAGAACCGCATCAAATTCTTATCTTTCTGGAGGCAATGATGTTTACGTTTCT\n",
    "CCCTCTCAGATTAGACTTTTTAATTTAAGGACAGGTGATATTTTATATGGCCAAATTAGATCCCCTAGAG\n",
    "ATGGTGAGAGATTTTTTGCAATGGTTAAAATTAAATCTATTAATGATCAAGATCCTACGTTTGCTCAAAA\n",
    "CAGAATACCTTTTGATAATTTAACTCCTCTTTATCCCAATGTGAAATTGAATCTTGAATATGAAAATTGC\n",
    "AATATTTCTACAAGGCTTATTAATCTTTTTTCACCTATAGGTAAGGGGCAAAGGGCTTTAATAGTTTCTC\n",
    "CTCCAAAAGCGGGAAAGACTACCTTGCTTCAAAAAATAGCTAATGCAATAACTACTAATTATTCAGATGT\n",
    "TATTTTAATGATACTACTTATTGATGAGAGGCCAGAAGAAGTTACAGATATGATTCGTAGCGTTAAAGGC\n",
    "GAAGTAATTGCATCTAATTTTGATGAGCAGGCTAGTAGGCATGTTCAGGTAGCAGAGATGGTTATTGAAA\n",
    "AGGCTAAAAGGCTTGTTGAAAACAAAAAAGATGTTGTTATTTTGCTTGATTCTATTACAAGGCTTGCAAG\n",
    "GGCATATAATCAAACTATGCCAACTTCTGGTAAAATTTTATCGGGTGGGGTAGATTCTAATGCTCTTCAT\n",
    "AAGCCAAAGAGGTTTTTTGGGTCTGCTAGAAATATAGAAGAAGGGGGAAGTTTAACTATTATAGCTACTG\n",
    "CTTTGGTTGATACTGGTAGTAAAATGGATGAAGTTATTTTTGAAGAATTTAAAAGTACCGGTAATATGGA\n",
    "ATTAATTCTTGATAGAAGTTTGGCAGACAGAAGACTTTTTCCTGCTATTAATATTAAAAAGTCAGGTACC\n",
    "AGAAAAGAAGAATTGCTTCTTAGTGAAGAGGAGCGTTCTAAGATTTTGCTTATTAGAAGAATACTTGGAG\n",
    "GTGTTGATGATTATGAGGGAGTTGAAGTTCTGATAGAAAAGATGAAAAAAAGCAAAAACAATGAAATTTT\n",
    "CTTGAAGACAATGAGCAATGGTAATTAAATAAATTGACATTATTTCTAATGTAAATTAAACTTTATTGAA\n",
    "GATTAAGAGGAAGGTTTTATGAGAAAAGATATACATCCTAAAAATAATTTAGTGGTATTTAAAGACGGAT\n",
    "CAAATGGAGCAATGTTTTTAACCAAGTCTACTTTGAATT '''\n",
    "print(Hbb.count(\"AT\"))\n",
    "print(round(Hbb.count(\"GC\")/len(Hbb)*100),\"%\")\n",
    "print(len(Hbb))"
   ]
  },
  {
   "cell_type": "code",
   "execution_count": 117,
   "id": "5fc8b43b",
   "metadata": {},
   "outputs": [
    {
     "name": "stdout",
     "output_type": "stream",
     "text": [
      "length of sequence= 13\n",
      "6\n",
      "3\n",
      "2\n",
      "2\n",
      "AT count= 1\n",
      "1\n",
      "A %= 46%\n",
      "T %= 23%\n",
      "G %= 15%\n",
      "C %= 15%\n",
      "AT %= 8%\n",
      "GC %= 8%\n"
     ]
    }
   ],
   "source": [
    "string1=\"AAAAAATTTGGCC\"  #base quality base per sequence   %A %T %GC %N\n",
    "print(\"length of sequence=\",len(string1))\n",
    "\n",
    "print(string1.count(\"A\"));print(string1.count(\"T\"));print(string1.count(\"G\"));print(string1.count(\"C\"))\n",
    "print(\"AT count=\",string1.count(\"AT\"));print(string1.count(\"GC\"))\n",
    "Apercent=round(string1.count(\"A\")/len(string1)*100)\n",
    "Tpercent=round(string1.count(\"T\")/len(string1)*100)\n",
    "Gpercent=round(string1.count(\"G\")/len(string1)*100)\n",
    "Cpercent=round(string1.count(\"C\")/len(string1)*100)\n",
    "ATpercent=round(string1.count(\"AT\")/len(string1)*100)\n",
    "GCpercent=round(string1.count(\"GC\")/len(string1)*100)\n",
    "print(\"A %=\",Apercent,end=\"%\\n\")\n",
    "print(\"T %=\",Tpercent,end=\"%\\n\")\n",
    "print(\"G %=\",Gpercent,end=\"%\\n\")\n",
    "print(\"C %=\",Cpercent,end=\"%\\n\")\n",
    "print(\"AT %=\",ATpercent,end=\"%\\n\")\n",
    "print(\"GC %=\",GCpercent,end=\"%\\n\")\n"
   ]
  },
  {
   "cell_type": "code",
   "execution_count": 139,
   "id": "c64a4676",
   "metadata": {},
   "outputs": [
    {
     "name": "stdout",
     "output_type": "stream",
     "text": [
      "odd_string= T EO O OB\n",
      "lengthoddstr 9\n",
      "even_string= OB RNTT E\n",
      "len_even_string= 9\n",
      "reverse_string= EB OT TON RO EB OT\n",
      "len_reverse_string= 18\n"
     ]
    },
    {
     "data": {
      "text/plain": [
       "''"
      ]
     },
     "execution_count": 139,
     "metadata": {},
     "output_type": "execute_result"
    }
   ],
   "source": [
    "string2=\"TO BE OR NOT TO BE\"\n",
    "\n",
    "oddstring=string2[::2]\n",
    "print(\"odd_string=\",oddstring)\n",
    "print(\"lengthoddstr\",len(oddstring))\n",
    "evenstring=string2[1::2]\n",
    "print(\"even_string=\",evenstring)\n",
    "print(\"len_even_string=\",len(evenstring))\n",
    "reversestring=(string2[::-1])\n",
    "print(\"reverse_string=\",reversestring)\n",
    "print(\"len_reverse_string=\",len(reversestring))\n",
    "\n",
    "numberofspaces\n"
   ]
  },
  {
   "cell_type": "code",
   "execution_count": 201,
   "id": "22c0e2f4",
   "metadata": {},
   "outputs": [
    {
     "ename": "SyntaxError",
     "evalue": "cannot assign to function call (Temp/ipykernel_12620/614111635.py, line 4)",
     "output_type": "error",
     "traceback": [
      "\u001b[1;36m  File \u001b[1;32m\"C:\\Users\\home\\AppData\\Local\\Temp/ipykernel_12620/614111635.py\"\u001b[1;36m, line \u001b[1;32m4\u001b[0m\n\u001b[1;33m    result=(a+b)(a+b)=a*a + b*b+2ab\u001b[0m\n\u001b[1;37m           ^\u001b[0m\n\u001b[1;31mSyntaxError\u001b[0m\u001b[1;31m:\u001b[0m cannot assign to function call\n"
     ]
    }
   ],
   "source": [
    "a=20\n",
    "b=10\n",
    "print(a*b)\n",
    "result=(a+b)(a+b)=a*a + b*b+2ab\n",
    "\n",
    "print(result)"
   ]
  },
  {
   "cell_type": "code",
   "execution_count": null,
   "id": "71bf975f",
   "metadata": {},
   "outputs": [],
   "source": [
    "a=20\n",
    "b=10\n",
    "\n",
    "result=a*a+b*b+2ab\n",
    "print(result)"
   ]
  }
 ],
 "metadata": {
  "kernelspec": {
   "display_name": "Python 3 (ipykernel)",
   "language": "python",
   "name": "python3"
  },
  "language_info": {
   "codemirror_mode": {
    "name": "ipython",
    "version": 3
   },
   "file_extension": ".py",
   "mimetype": "text/x-python",
   "name": "python",
   "nbconvert_exporter": "python",
   "pygments_lexer": "ipython3",
   "version": "3.11.5"
  }
 },
 "nbformat": 4,
 "nbformat_minor": 5
}
