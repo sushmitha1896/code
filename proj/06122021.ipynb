{
 "cells": [
  {
   "cell_type": "code",
   "execution_count": 12,
   "id": "38afedc8",
   "metadata": {},
   "outputs": [
    {
     "name": "stdout",
     "output_type": "stream",
     "text": [
      "enter the number: 12\n",
      "10*1= 12\n",
      "10*2= 24\n",
      "10*3= 36\n",
      "10*4= 48\n",
      "10*5= 60\n"
     ]
    }
   ],
   "source": [
    "x=int(input(\"enter the number: \"))\n",
    "print(\"10*1=\",x*1);print(\"10*2=\",x*2);print(\"10*3=\",x*3);print(\"10*4=\",x*4);print(\"10*5=\",x*5)\n"
   ]
  },
  {
   "cell_type": "code",
   "execution_count": null,
   "id": "dc854857",
   "metadata": {},
   "outputs": [],
   "source": []
  },
  {
   "cell_type": "code",
   "execution_count": 16,
   "id": "9376e1e5",
   "metadata": {},
   "outputs": [
    {
     "name": "stdout",
     "output_type": "stream",
     "text": [
      "enter the number: 10\n",
      "10*1=10\n",
      "10*2=20\n",
      "10*3=30\n",
      "10*4=40\n",
      "10*5=50\n"
     ]
    }
   ],
   "source": [
    "a=int(input(\"enter the number: \"))\n",
    "print(\"{0}*1=10\".format(a));print(\"{0}*2=20\".format(a));print(\"{0}*3=30\".format(a));print(\"{0}*4=40\".format(a));print(\"{0}*5=50\".format(a))"
   ]
  },
  {
   "cell_type": "code",
   "execution_count": 28,
   "id": "b9d40d7f",
   "metadata": {},
   "outputs": [
    {
     "name": "stdout",
     "output_type": "stream",
     "text": [
      "Enter the number to be multiplied=10\n",
      "10-5=5 \n",
      "10-4=6 \n",
      "10-3=7 \n",
      "10-2=8 \n",
      "10-1=9\n"
     ]
    }
   ],
   "source": [
    "number=int(input(\"Enter the number to be multiplied=\"))\n",
    "print(\"{0}-5={1} \\n{0}-4={2} \\n{0}-3={3} \\n{0}-2={4} \\n{0}-1={5}\".format(number,(number-5),number-4,number-3,number-2,number-1))\n"
   ]
  },
  {
   "cell_type": "code",
   "execution_count": 31,
   "id": "193a51ac",
   "metadata": {},
   "outputs": [
    {
     "name": "stdout",
     "output_type": "stream",
     "text": [
      "Enter the number to be multiplied=6\n",
      "6x5=30 \n",
      "6x4=24 \n",
      "6x3=18 \n",
      "6x2=12 \n",
      "6x1=6\n"
     ]
    }
   ],
   "source": [
    "number=int(input(\"Enter the number to be multiplied=\"))\n",
    "print(\"{0}x5={1} \\n{0}x4={2} \\n{0}x3={3} \\n{0}x2={4} \\n{0}x1={5}\".format(number,(number*5),number*4,number*3,number*2,number*1))\n"
   ]
  },
  {
   "cell_type": "code",
   "execution_count": 42,
   "id": "3032341d",
   "metadata": {},
   "outputs": [
    {
     "name": "stdout",
     "output_type": "stream",
     "text": [
      "enter number 7\n",
      "7x1=7 \n",
      " 7x3=21\n",
      " 7x5=35\n"
     ]
    }
   ],
   "source": [
    "a=int(input(\"enter number \"))\n",
    "print(\"{0}x1={1} \\n {0}x3={2}\\n {0}x5={3}\".format(a,a*1,a*3,a*5))"
   ]
  },
  {
   "cell_type": "code",
   "execution_count": 45,
   "id": "fbf95b49",
   "metadata": {},
   "outputs": [
    {
     "name": "stdout",
     "output_type": "stream",
     "text": [
      "enter16\n",
      "16x1=16\n",
      "16x2=32\n",
      "16x3=48\n",
      "16x4=64\n",
      "16x5=80\n"
     ]
    }
   ],
   "source": [
    "num=int(input(\"enter\"))\n",
    "for i in range(1,6):\n",
    "    print(\"{0}x{1}={2}\".format(num,i,i*num))\n",
    "    "
   ]
  },
  {
   "cell_type": "code",
   "execution_count": 46,
   "id": "64846cbe",
   "metadata": {},
   "outputs": [
    {
     "name": "stdout",
     "output_type": "stream",
     "text": [
      "97\n",
      "a\n",
      "97\n",
      "98\n",
      "99\n",
      "100\n"
     ]
    }
   ],
   "source": [
    "print(ord('a'))\n",
    "print(chr(97))   #ASCII table \n",
    "for i in range(ord('a'),ord('e')):\n",
    "    print(i)"
   ]
  },
  {
   "cell_type": "code",
   "execution_count": 47,
   "id": "de553e13",
   "metadata": {},
   "outputs": [
    {
     "name": "stdout",
     "output_type": "stream",
     "text": [
      "True\n",
      "True\n",
      "True\n",
      "False\n",
      "True\n"
     ]
    }
   ],
   "source": [
    "str1,str2,str3=\"1234\",\"ABCD\",\" \"\n",
    "print(str1.isdigit()) #To check if it contains numerical value alone\n",
    "print(str2.isalpha()) #To check if it contains alphabet alone \n",
    "print(str3.isspace()) #To check if it contains space or not\n",
    "print(str2.islower()) #To check if it is lowercase or not\n",
    "print(str2.isupper()) #To check it contains numerical value alone"
   ]
  },
  {
   "cell_type": "code",
   "execution_count": 48,
   "id": "a14e83b1",
   "metadata": {},
   "outputs": [
    {
     "name": "stdout",
     "output_type": "stream",
     "text": [
      "LOWER STRING TO UPPER\n",
      "upper string to lower\n"
     ]
    }
   ],
   "source": [
    "#case converstion\n",
    "lowerstring=\"lower string to upper\"\n",
    "upperstring=\"UPPER STRING TO LOWER\"\n",
    "print(lowerstring.upper())  #convert lower to upper case\n",
    "print(upperstring.lower())  #convert upper to lower"
   ]
  },
  {
   "cell_type": "code",
   "execution_count": 131,
   "id": "d8d54730",
   "metadata": {},
   "outputs": [
    {
     "name": "stdout",
     "output_type": "stream",
     "text": [
      "Datastructure type => <class 'list'> => List values=> => ['TO', 'BE', 'OR', 'NOT', 'TO', 'BE']\n"
     ]
    }
   ],
   "source": [
    "stringsplit=\"TO BE OR NOT TO BE\"\n",
    "listDS = stringsplit.split()\n",
    "print(\"Datastructure type\",type(listDS),\"List values=>\",listDS,sep=\" => \")"
   ]
  },
  {
   "cell_type": "code",
   "execution_count": 50,
   "id": "b182b381",
   "metadata": {},
   "outputs": [
    {
     "name": "stdout",
     "output_type": "stream",
     "text": [
      "True\n",
      "True\n",
      "True\n",
      "False\n"
     ]
    }
   ],
   "source": [
    "print(bool(10<=20))\n",
    "print(10<=20)\n",
    "#> <  >=   <=   ==  !=   if a>b do this else do that\n",
    "print(10==10)\n",
    "check=bool(10>10)\n",
    "print(check)"
   ]
  },
  {
   "cell_type": "code",
   "execution_count": 430,
   "id": "b0afae05",
   "metadata": {},
   "outputs": [
    {
     "name": "stdout",
     "output_type": "stream",
     "text": [
      "\u0000\n",
      "\u0001\n",
      "\u0002\n",
      "\u0003\n",
      "\u0004\n",
      "\u0005\n",
      "\u0006\n",
      "\u0007\n",
      "\b\n",
      "\t\n",
      "\n",
      "\n",
      "\u000b",
      "\n",
      "\f",
      "\n",
      "\r\n",
      "\u000e\n",
      "\u000f\n",
      "\u0010\n",
      "\u0011\n",
      "\u0012\n",
      "\u0013\n",
      "\u0014\n",
      "\u0015\n",
      "\u0016\n",
      "\u0017\n",
      "\u0018\n",
      "\u0019\n",
      "\u001a\n",
      "\u001b\n",
      "\u001c",
      "\n",
      "\u001d",
      "\n",
      "\u001e",
      "\n",
      "\u001f\n",
      " \n",
      "!\n",
      "\"\n",
      "#\n",
      "$\n",
      "%\n",
      "&\n",
      "'\n",
      "(\n",
      ")\n",
      "*\n",
      "+\n",
      ",\n",
      "-\n",
      ".\n",
      "/\n",
      "0\n",
      "1\n",
      "2\n",
      "3\n",
      "4\n",
      "5\n",
      "6\n",
      "7\n",
      "8\n",
      "9\n",
      ":\n",
      ";\n",
      "<\n",
      "=\n",
      ">\n",
      "?\n",
      "@\n",
      "A\n",
      "B\n",
      "C\n",
      "D\n",
      "E\n",
      "F\n",
      "G\n",
      "H\n",
      "I\n",
      "J\n",
      "K\n",
      "L\n",
      "M\n",
      "N\n",
      "O\n",
      "P\n",
      "Q\n",
      "R\n",
      "S\n",
      "T\n",
      "U\n",
      "V\n",
      "W\n",
      "X\n",
      "Y\n",
      "Z\n",
      "[\n",
      "\\\n",
      "]\n",
      "^\n",
      "_\n",
      "`\n",
      "a\n",
      "b\n",
      "c\n",
      "d\n",
      "e\n",
      "f\n",
      "g\n",
      "h\n",
      "i\n",
      "j\n",
      "k\n",
      "l\n",
      "m\n",
      "n\n",
      "o\n",
      "p\n",
      "q\n",
      "r\n",
      "s\n",
      "t\n",
      "u\n",
      "v\n",
      "w\n",
      "x\n",
      "y\n",
      "z\n",
      "{\n",
      "|\n",
      "}\n",
      "~\n",
      "\n",
      "97\n",
      "98\n",
      "99\n",
      "100\n"
     ]
    }
   ],
   "source": [
    "for asciil in range(0,128):\n",
    "    print(chr(asciil))\n",
    "for i in range(ord('a'),ord('e')):\n",
    "    print(i)"
   ]
  },
  {
   "cell_type": "code",
   "execution_count": 132,
   "id": "536bdd1d",
   "metadata": {},
   "outputs": [
    {
     "name": "stdout",
     "output_type": "stream",
     "text": [
      "len_of_seq= 57\n",
      "lowercase= atgcaattggccaattggccaaaatgac aattggccaattt  atgcatatagcgc\n",
      "string_slicing= TATA\n",
      "except_1stlast_base= tgcaattggccaattggccaaaatgac aattggccaattt  atgcatatagcg\n"
     ]
    }
   ],
   "source": [
    "myseq=\"ATGCAATTGGCCAATTGGCCAAAATGAC AATTGGCCAATTT  ATGCATATAGCGC\"\n",
    "#1.find the length of seq\n",
    "#2.change the case from upper to lower \n",
    "#3.get the tata from the sequence using string slicing \n",
    "#4.store the sequence except 1st base and the last base \n",
    "#like \"tgcaattggccaattggccaaaatgac aattggccaattt  atgcatatagcg\"\n",
    "print(\"len_of_seq=\",len(myseq))\n",
    "print(\"lowercase=\",myseq.lower())\n",
    "print(\"string_slicing=\",myseq[-8:-4])\n",
    "print(\"except_1stlast_base=\",myseq[1:-1].lower())\n",
    "\n",
    "\n",
    "\n"
   ]
  },
  {
   "cell_type": "code",
   "execution_count": 372,
   "id": "be615080",
   "metadata": {},
   "outputs": [
    {
     "name": "stdout",
     "output_type": "stream",
     "text": [
      "    AT\n",
      "   TATA\n",
      "  GCGCGC\n",
      "  ATGCATA\n",
      "  ATGCATA \n",
      "  GCGCGC\n",
      "   TATA \n",
      "    AT\n"
     ]
    }
   ],
   "source": [
    "seq=\"    AT\\n   TATA\\n  GCGCGC\\n  ATGCATA\"\n",
    "print(seq)\n",
    "#print(seq[::-1],end=\"  \")\n",
    "\n",
    "print(\"  ATGCATA \\n  GCGCGC\\n   TATA \\n    AT\",sep=\" \")"
   ]
  },
  {
   "cell_type": "code",
   "execution_count": 377,
   "id": "a9e24ded",
   "metadata": {},
   "outputs": [
    {
     "name": "stdout",
     "output_type": "stream",
     "text": [
      "20 is b value and 10 is a value.\n",
      "40 is d value and 30 is c value.\n"
     ]
    }
   ],
   "source": [
    "a=10\n",
    "b=20\n",
    "c=30\n",
    "d=40\n",
    "print(\"%d is b value and %d is a value.\"%(b,a))\n",
    "print(\"%d is d value and %d is c value.\"%(d,c))\n"
   ]
  },
  {
   "cell_type": "code",
   "execution_count": 432,
   "id": "a03600a6",
   "metadata": {},
   "outputs": [
    {
     "name": "stdout",
     "output_type": "stream",
     "text": [
      "['TO', 'BE', 'OR', 'NOT', 'TO', 'BE']\n"
     ]
    }
   ],
   "source": [
    "stringsplit=\"TO BE OR NOT TO BE\"\n",
    "listDS = stringsplit.split()\n",
    "print(listDS)"
   ]
  }
 ],
 "metadata": {
  "kernelspec": {
   "display_name": "Python 3 (ipykernel)",
   "language": "python",
   "name": "python3"
  },
  "language_info": {
   "codemirror_mode": {
    "name": "ipython",
    "version": 3
   },
   "file_extension": ".py",
   "mimetype": "text/x-python",
   "name": "python",
   "nbconvert_exporter": "python",
   "pygments_lexer": "ipython3",
   "version": "3.11.5"
  }
 },
 "nbformat": 4,
 "nbformat_minor": 5
}
