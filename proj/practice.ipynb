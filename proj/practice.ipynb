{
 "cells": [
  {
   "cell_type": "code",
   "execution_count": 21,
   "id": "fc0c5776",
   "metadata": {},
   "outputs": [
    {
     "name": "stdout",
     "output_type": "stream",
     "text": [
      "hello,how are you\n",
      "how are you?25\n",
      "whats your age? 23\n",
      "china\n",
      "switzerland\n",
      "europe\n",
      "usa\n",
      "capital of INDIA is Delhi\n",
      "2 is an integer while GANITECH is a string.\n",
      "my name is sushmitha and my age is 25.\n"
     ]
    }
   ],
   "source": [
    "x=(\"hello,how are you\")\n",
    "print(x)\n",
    "\n",
    "x=input(\"how are you?\")\n",
    "\n",
    "x=int(input(\"whats your age? \"))\n",
    "\n",
    "print(\"china\",\"switzerland\",\"europe\",\"usa\",sep=\"\\n\")\n",
    "\n",
    "country=\"INDIA\"\n",
    "capital=\"Delhi\"\n",
    "print(\"capital of {0} is {1}\".format(country,capital))\n",
    "\n",
    "a = 2\n",
    "b = \"GANITECH\"\n",
    "\n",
    "print(\"%d is an integer while %s is a string.\"%(a,b))\n",
    "age=25\n",
    "name=\"sushmitha\"\n",
    "print(\"my name is %s and my age is %d.\"%(name,age))"
   ]
  },
  {
   "cell_type": "code",
   "execution_count": null,
   "id": "d301ffd9",
   "metadata": {},
   "outputs": [],
   "source": []
  },
  {
   "cell_type": "code",
   "execution_count": 31,
   "id": "df7dffdd",
   "metadata": {},
   "outputs": [
    {
     "name": "stdout",
     "output_type": "stream",
     "text": [
      "1 2 threec\n",
      "53\n",
      "37\n",
      "10\n",
      "2\n",
      "EROLAGNAB\n"
     ]
    }
   ],
   "source": [
    "one,two,three=1,2,\"threec\"\n",
    "print(one,two,three)\n",
    "\n",
    "seq='''TGAAGTTAGAAAAAGAAAGGGACGCTTAAATGCTCGCAATCCTCAA\n",
    "ACAGGGGAGTATGTTAAGGTCCTAGATCATCACGTTGCGTATTTTCGTCCAGGCAAAGATTTGAAAGAGA\n",
    "GAGTGTGGGGTATCAAAGGTTAAATGCCAGTTAATATCGTAGATTCTTATAAATGGGATTGTAAGCTAGA\n",
    "CTCCAGTTTAACTTTTAGAGGAAAATTAAAATTTGAAGGAACTTTGTATCTTGATTCTTCTTTTGAAGGT\n",
    "GAAATATCTTCAAAAGGGGGTGTGCTTTTTATTGGCAAGAATAGTAAGGTTATTACCAATGTGGTAATTT\n",
    "GTGATACATTAATAGTAGAAGGAATTTTGAAGGGCAATGTAAATGCTGCTAGTAAGGTTTATTTAAACAG\n",
    "CGGTTGTAAAATATATGGGGATGTAAAAACAAAAAAAATATTTATTAATGATAATATAATTTTTGATGGT\n",
    "AAGTGTGAAATGATAAAGTCTAATGAAATTGTAGATTTATTTTCTTTCACCGTTTCACAAATAAAA'''\n",
    "\n",
    "print(seq.count(\"AT\"));print(seq.count(\"GT\"))\n",
    "print(round(seq.count(\"AT\")/len(seq)*100));print(round(seq.count(\"GC\")/len(seq)*100))\n",
    "\n",
    "\n",
    "string=\"BANGALORE\"\n",
    "print(string[::-1])"
   ]
  },
  {
   "cell_type": "code",
   "execution_count": 37,
   "id": "6aea76f3",
   "metadata": {},
   "outputs": [
    {
     "name": "stdout",
     "output_type": "stream",
     "text": [
      "enter number to be multiplied6\n",
      "6x1=6\n",
      "6x2=12\n",
      "6x3=18\n"
     ]
    }
   ],
   "source": [
    "number=int(input(\"enter number to be multiplied:\"))\n",
    "print(\"{0}x1={1}\\n{0}x2={2}\\n{0}x3={3}\".format(number,number*1,number*2,number*3))"
   ]
  },
  {
   "cell_type": "code",
   "execution_count": 39,
   "id": "6789155b",
   "metadata": {},
   "outputs": [
    {
     "name": "stdout",
     "output_type": "stream",
     "text": [
      "enter:12\n",
      "12x1=12\n",
      "12x2=24\n",
      "12x3=36\n",
      "12x4=48\n",
      "12x5=60\n",
      "12x6=72\n",
      "12x7=84\n",
      "12x8=96\n",
      "12x9=108\n",
      "12x10=120\n"
     ]
    }
   ],
   "source": [
    "num=int(input(\"enter:\"))\n",
    "for i in range(1,11):\n",
    "    print(\"{0}x{1}={2}\".format(num,i,i*num))"
   ]
  },
  {
   "cell_type": "code",
   "execution_count": null,
   "id": "b795655c",
   "metadata": {},
   "outputs": [],
   "source": [
    "list append for in if 07122021"
   ]
  }
 ],
 "metadata": {
  "kernelspec": {
   "display_name": "Python 3 (ipykernel)",
   "language": "python",
   "name": "python3"
  },
  "language_info": {
   "codemirror_mode": {
    "name": "ipython",
    "version": 3
   },
   "file_extension": ".py",
   "mimetype": "text/x-python",
   "name": "python",
   "nbconvert_exporter": "python",
   "pygments_lexer": "ipython3",
   "version": "3.11.5"
  }
 },
 "nbformat": 4,
 "nbformat_minor": 5
}
